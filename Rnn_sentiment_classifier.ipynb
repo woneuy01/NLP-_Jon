{
  "nbformat": 4,
  "nbformat_minor": 0,
  "metadata": {
    "kernelspec": {
      "display_name": "Python 3",
      "language": "python",
      "name": "python3"
    },
    "language_info": {
      "codemirror_mode": {
        "name": "ipython",
        "version": 3
      },
      "file_extension": ".py",
      "mimetype": "text/x-python",
      "name": "python",
      "nbconvert_exporter": "python",
      "pygments_lexer": "ipython3",
      "version": "3.7.3"
    },
    "colab": {
      "name": "Copy of rnn_sentiment_classifier.ipynb",
      "provenance": [],
      "collapsed_sections": [],
      "include_colab_link": true
    },
    "accelerator": "GPU"
  },
  "cells": [
    {
      "cell_type": "markdown",
      "metadata": {
        "id": "view-in-github",
        "colab_type": "text"
      },
      "source": [
        "<a href=\"https://colab.research.google.com/github/woneuy01/NLP_Jon/blob/master/Rnn_sentiment_classifier.ipynb\" target=\"_parent\"><img src=\"https://colab.research.google.com/assets/colab-badge.svg\" alt=\"Open In Colab\"/></a>"
      ]
    },
    {
      "cell_type": "markdown",
      "metadata": {
        "id": "Fjrp8NA5uJN1",
        "colab_type": "text"
      },
      "source": [
        "# RNN Sentiment Classifier"
      ]
    },
    {
      "cell_type": "markdown",
      "metadata": {
        "id": "lKF3FH6YuJN3",
        "colab_type": "text"
      },
      "source": [
        "In this notebook, we use an RNN to classify IMDB movie reviews by their sentiment."
      ]
    },
    {
      "cell_type": "markdown",
      "metadata": {
        "id": "4Ke4MfVZuJN3",
        "colab_type": "text"
      },
      "source": [
        "#### Load dependencies"
      ]
    },
    {
      "cell_type": "code",
      "metadata": {
        "id": "9mC7hfxduJN4",
        "colab_type": "code",
        "colab": {}
      },
      "source": [
        "import tensorflow\n",
        "from tensorflow.keras.datasets import imdb\n",
        "from tensorflow.keras.preprocessing.sequence import pad_sequences\n",
        "from tensorflow.keras.models import Sequential\n",
        "from tensorflow.keras.layers import Dense, Dropout, Embedding, SpatialDropout1D\n",
        "from tensorflow.keras.layers import SimpleRNN # new! \n",
        "from tensorflow.keras.callbacks import ModelCheckpoint\n",
        "import os\n",
        "from sklearn.metrics import roc_auc_score \n",
        "import matplotlib.pyplot as plt "
      ],
      "execution_count": 0,
      "outputs": []
    },
    {
      "cell_type": "markdown",
      "metadata": {
        "id": "eFxEmXi5uJN7",
        "colab_type": "text"
      },
      "source": [
        "#### Set hyperparameters"
      ]
    },
    {
      "cell_type": "code",
      "metadata": {
        "id": "o-WCMFaVuJN7",
        "colab_type": "code",
        "colab": {}
      },
      "source": [
        "# output directory name:\n",
        "output_dir = 'model_output/rnn'\n",
        "\n",
        "# training:\n",
        "epochs = 16 # way more!\n",
        "batch_size = 128\n",
        "\n",
        "# vector-space embedding: \n",
        "n_dim = 64 \n",
        "n_unique_words = 10000 \n",
        "max_review_length = 100 # lowered due to vanishing gradient over time\n",
        "# 보통 rnn can propagate 10 times steps\n",
        "# LSTM can propagate about 100 tokens 그래서 여기도 10으로 하면 되는데 그냥 100으로 놔둠\n",
        "\n",
        "pad_type = trunc_type = 'pre'\n",
        "drop_embed = 0.2 \n",
        "\n",
        "# RNN layer architecture:\n",
        "n_rnn = 256  # we can look for 256 of unique sequences upto 10 workd voctors\n",
        "drop_rnn = 0.2\n",
        "\n",
        "# dense layer architecture:  common for cnn but less common for RNN\n",
        "# n_dense = 256\n",
        "# dropout = 0.2"
      ],
      "execution_count": 0,
      "outputs": []
    },
    {
      "cell_type": "markdown",
      "metadata": {
        "id": "j9-B1f7KuJN-",
        "colab_type": "text"
      },
      "source": [
        "#### Load data"
      ]
    },
    {
      "cell_type": "code",
      "metadata": {
        "id": "BHiHBFxPuJN_",
        "colab_type": "code",
        "colab": {
          "base_uri": "https://localhost:8080/",
          "height": 50
        },
        "outputId": "e366b0d5-e83a-4237-81b6-ca18c0bd0053"
      },
      "source": [
        "(x_train, y_train), (x_valid, y_valid) = imdb.load_data(num_words=n_unique_words) # removed n_words_to_skip"
      ],
      "execution_count": 3,
      "outputs": [
        {
          "output_type": "stream",
          "text": [
            "Downloading data from https://storage.googleapis.com/tensorflow/tf-keras-datasets/imdb.npz\n",
            "17465344/17464789 [==============================] - 0s 0us/step\n"
          ],
          "name": "stdout"
        }
      ]
    },
    {
      "cell_type": "markdown",
      "metadata": {
        "id": "oEg1evDIuJOB",
        "colab_type": "text"
      },
      "source": [
        "#### Preprocess data"
      ]
    },
    {
      "cell_type": "code",
      "metadata": {
        "id": "jai2_eevuJOB",
        "colab_type": "code",
        "colab": {}
      },
      "source": [
        "x_train = pad_sequences(x_train, maxlen=max_review_length, padding=pad_type, truncating=trunc_type, value=0)\n",
        "x_valid = pad_sequences(x_valid, maxlen=max_review_length, padding=pad_type, truncating=trunc_type, value=0)"
      ],
      "execution_count": 0,
      "outputs": []
    },
    {
      "cell_type": "markdown",
      "metadata": {
        "collapsed": true,
        "id": "8_z04O5ruJOD",
        "colab_type": "text"
      },
      "source": [
        "#### Design neural network architecture"
      ]
    },
    {
      "cell_type": "code",
      "metadata": {
        "id": "OUIm7DWwuJOE",
        "colab_type": "code",
        "colab": {}
      },
      "source": [
        "model = Sequential()\n",
        "\n",
        "#first hidden:\n",
        "model.add(Embedding(n_unique_words, n_dim, input_length=max_review_length)) \n",
        "model.add(SpatialDropout1D(drop_embed))\n",
        "\n",
        "#second hidden\n",
        "model.add(SimpleRNN(n_rnn, dropout=drop_rnn))\n",
        "# model.add(Dense(n_dense, activation='relu')) # typically don't see top dense layer in NLP like in (RNN에서는 잘 안쓴다.)\n",
        "# model.add(Dropout(dropout))\n",
        "\n",
        "model.add(Dense(1, activation='sigmoid'))"
      ],
      "execution_count": 0,
      "outputs": []
    },
    {
      "cell_type": "code",
      "metadata": {
        "id": "Tfud2ZqSuJOG",
        "colab_type": "code",
        "outputId": "46962996-507e-43c7-aade-955e8b97bd5b",
        "colab": {
          "base_uri": "https://localhost:8080/",
          "height": 286
        }
      },
      "source": [
        "model.summary() "
      ],
      "execution_count": 6,
      "outputs": [
        {
          "output_type": "stream",
          "text": [
            "Model: \"sequential\"\n",
            "_________________________________________________________________\n",
            "Layer (type)                 Output Shape              Param #   \n",
            "=================================================================\n",
            "embedding (Embedding)        (None, 100, 64)           640000    \n",
            "_________________________________________________________________\n",
            "spatial_dropout1d (SpatialDr (None, 100, 64)           0         \n",
            "_________________________________________________________________\n",
            "simple_rnn (SimpleRNN)       (None, 256)               82176     \n",
            "_________________________________________________________________\n",
            "dense (Dense)                (None, 1)                 257       \n",
            "=================================================================\n",
            "Total params: 722,433\n",
            "Trainable params: 722,433\n",
            "Non-trainable params: 0\n",
            "_________________________________________________________________\n"
          ],
          "name": "stdout"
        }
      ]
    },
    {
      "cell_type": "markdown",
      "metadata": {
        "id": "7hDcNYeZuJOJ",
        "colab_type": "text"
      },
      "source": [
        "#### Configure model"
      ]
    },
    {
      "cell_type": "code",
      "metadata": {
        "id": "IonPd1e9uJOK",
        "colab_type": "code",
        "colab": {}
      },
      "source": [
        "model.compile(loss='binary_crossentropy', optimizer='nadam', metrics=['accuracy'])"
      ],
      "execution_count": 0,
      "outputs": []
    },
    {
      "cell_type": "code",
      "metadata": {
        "id": "4mv-RNQtuJOM",
        "colab_type": "code",
        "colab": {}
      },
      "source": [
        "modelcheckpoint = ModelCheckpoint(filepath=output_dir+\"/weights.{epoch:02d}.hdf5\")\n",
        "if not os.path.exists(output_dir):\n",
        "    os.makedirs(output_dir)"
      ],
      "execution_count": 0,
      "outputs": []
    },
    {
      "cell_type": "markdown",
      "metadata": {
        "id": "Qw4Lf2K6uJOO",
        "colab_type": "text"
      },
      "source": [
        "#### Train!"
      ]
    },
    {
      "cell_type": "code",
      "metadata": {
        "id": "0AI_342NuJOO",
        "colab_type": "code",
        "outputId": "55e80377-09c1-4eba-c055-ba891716c5dc",
        "colab": {
          "base_uri": "https://localhost:8080/",
          "height": 571
        }
      },
      "source": [
        "# traning(not validation!!) result was up and down means the model is not good\n",
        "\n",
        "model.fit(x_train, y_train, batch_size=batch_size, epochs=epochs, verbose=1, validation_data=(x_valid, y_valid), callbacks=[modelcheckpoint])"
      ],
      "execution_count": 9,
      "outputs": [
        {
          "output_type": "stream",
          "text": [
            "Epoch 1/16\n",
            "196/196 [==============================] - 23s 115ms/step - loss: 0.6971 - accuracy: 0.5126 - val_loss: 0.6885 - val_accuracy: 0.5179\n",
            "Epoch 2/16\n",
            "196/196 [==============================] - 23s 116ms/step - loss: 0.6690 - accuracy: 0.5854 - val_loss: 0.6694 - val_accuracy: 0.5638\n",
            "Epoch 3/16\n",
            "196/196 [==============================] - 22s 114ms/step - loss: 0.6219 - accuracy: 0.6478 - val_loss: 0.6238 - val_accuracy: 0.6539\n",
            "Epoch 4/16\n",
            "196/196 [==============================] - 23s 119ms/step - loss: 0.5160 - accuracy: 0.7470 - val_loss: 0.4605 - val_accuracy: 0.7960\n",
            "Epoch 5/16\n",
            "196/196 [==============================] - 22s 115ms/step - loss: 0.6306 - accuracy: 0.6519 - val_loss: 0.6205 - val_accuracy: 0.6397\n",
            "Epoch 6/16\n",
            "196/196 [==============================] - 22s 114ms/step - loss: 0.5703 - accuracy: 0.7028 - val_loss: 0.6152 - val_accuracy: 0.6485\n",
            "Epoch 7/16\n",
            "196/196 [==============================] - 23s 115ms/step - loss: 0.5307 - accuracy: 0.7339 - val_loss: 0.6015 - val_accuracy: 0.6725\n",
            "Epoch 8/16\n",
            "196/196 [==============================] - 23s 118ms/step - loss: 0.4923 - accuracy: 0.7634 - val_loss: 0.8823 - val_accuracy: 0.5524\n",
            "Epoch 9/16\n",
            "196/196 [==============================] - 22s 114ms/step - loss: 0.4615 - accuracy: 0.7835 - val_loss: 0.5869 - val_accuracy: 0.7184\n",
            "Epoch 10/16\n",
            "196/196 [==============================] - 22s 113ms/step - loss: 0.4221 - accuracy: 0.8097 - val_loss: 0.8639 - val_accuracy: 0.6142\n",
            "Epoch 11/16\n",
            "196/196 [==============================] - 22s 112ms/step - loss: 0.4135 - accuracy: 0.8133 - val_loss: 0.6105 - val_accuracy: 0.6900\n",
            "Epoch 12/16\n",
            "196/196 [==============================] - 22s 112ms/step - loss: 0.3750 - accuracy: 0.8357 - val_loss: 0.5595 - val_accuracy: 0.7523\n",
            "Epoch 13/16\n",
            "196/196 [==============================] - 22s 110ms/step - loss: 0.3591 - accuracy: 0.8419 - val_loss: 0.5965 - val_accuracy: 0.7068\n",
            "Epoch 14/16\n",
            "196/196 [==============================] - 22s 112ms/step - loss: 0.3383 - accuracy: 0.8572 - val_loss: 0.5850 - val_accuracy: 0.7466\n",
            "Epoch 15/16\n",
            "196/196 [==============================] - 22s 112ms/step - loss: 0.3202 - accuracy: 0.8641 - val_loss: 0.6585 - val_accuracy: 0.6689\n",
            "Epoch 16/16\n",
            "196/196 [==============================] - 22s 112ms/step - loss: 0.4082 - accuracy: 0.8110 - val_loss: 0.6844 - val_accuracy: 0.6608\n"
          ],
          "name": "stdout"
        },
        {
          "output_type": "execute_result",
          "data": {
            "text/plain": [
              "<tensorflow.python.keras.callbacks.History at 0x7f41c6dd70b8>"
            ]
          },
          "metadata": {
            "tags": []
          },
          "execution_count": 9
        }
      ]
    },
    {
      "cell_type": "markdown",
      "metadata": {
        "collapsed": true,
        "id": "rOpXsCGGuJOQ",
        "colab_type": "text"
      },
      "source": [
        "#### Evaluate"
      ]
    },
    {
      "cell_type": "code",
      "metadata": {
        "id": "kmo18sD2uJOR",
        "colab_type": "code",
        "colab": {}
      },
      "source": [
        "model.load_weights(output_dir+\"/weights.07.hdf5\") "
      ],
      "execution_count": 0,
      "outputs": []
    },
    {
      "cell_type": "code",
      "metadata": {
        "id": "Fe995G2QuJOU",
        "colab_type": "code",
        "colab": {
          "base_uri": "https://localhost:8080/",
          "height": 87
        },
        "outputId": "da98e0c5-7712-4a56-e223-f46b8c8b430a"
      },
      "source": [
        "y_hat = model.predict_proba(x_valid)"
      ],
      "execution_count": 11,
      "outputs": [
        {
          "output_type": "stream",
          "text": [
            "WARNING:tensorflow:From <ipython-input-11-06b9224910f9>:1: Sequential.predict_proba (from tensorflow.python.keras.engine.sequential) is deprecated and will be removed after 2021-01-01.\n",
            "Instructions for updating:\n",
            "Please use `model.predict()` instead.\n"
          ],
          "name": "stdout"
        }
      ]
    },
    {
      "cell_type": "code",
      "metadata": {
        "id": "5eU4D8NUuJOV",
        "colab_type": "code",
        "outputId": "deda7837-0206-4ee0-dbba-79a063627e19",
        "colab": {
          "base_uri": "https://localhost:8080/",
          "height": 265
        }
      },
      "source": [
        "plt.hist(y_hat)\n",
        "_ = plt.axvline(x=0.5, color='orange')"
      ],
      "execution_count": 12,
      "outputs": [
        {
          "output_type": "display_data",
          "data": {
            "image/png": "[encoded data removed]",
            "text/plain": [
              "<Figure size 432x288 with 1 Axes>"
            ]
          },
          "metadata": {
            "tags": [],
            "needs_background": "light"
          }
        }
      ]
    },
    {
      "cell_type": "code",
      "metadata": {
        "id": "s2kjJWAUuJOX",
        "colab_type": "code",
        "outputId": "363972db-0e2a-4141-dc67-5054682883e3",
        "colab": {
          "base_uri": "https://localhost:8080/",
          "height": 34
        }
      },
      "source": [
        "\"{:0.2f}\".format(roc_auc_score(y_valid, y_hat)*100.0)\n",
        "# result was worse than dense and convolutional layer"
      ],
      "execution_count": 13,
      "outputs": [
        {
          "output_type": "execute_result",
          "data": {
            "text/plain": [
              "'73.98'"
            ]
          },
          "metadata": {
            "tags": []
          },
          "execution_count": 13
        }
      ]
    },
    {
      "cell_type": "code",
      "metadata": {
        "id": "Jq9MIm7ouJOZ",
        "colab_type": "code",
        "colab": {}
      },
      "source": [
        ""
      ],
      "execution_count": 0,
      "outputs": []
    }
  ]
}